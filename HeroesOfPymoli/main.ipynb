{
 "cells": [
  {
   "cell_type": "markdown",
   "metadata": {},
   "source": [
    "# Heroes of Pymoli Data Analysis"
   ]
  },
  {
   "cell_type": "code",
   "execution_count": 1,
   "metadata": {},
   "outputs": [
    {
     "data": {
      "text/html": [
       "<div>\n",
       "<style>\n",
       "    .dataframe thead tr:only-child th {\n",
       "        text-align: right;\n",
       "    }\n",
       "\n",
       "    .dataframe thead th {\n",
       "        text-align: left;\n",
       "    }\n",
       "\n",
       "    .dataframe tbody tr th {\n",
       "        vertical-align: top;\n",
       "    }\n",
       "</style>\n",
       "<table border=\"1\" class=\"dataframe\">\n",
       "  <thead>\n",
       "    <tr style=\"text-align: right;\">\n",
       "      <th></th>\n",
       "      <th>Age</th>\n",
       "      <th>Gender</th>\n",
       "      <th>Item ID</th>\n",
       "      <th>Item Name</th>\n",
       "      <th>Price</th>\n",
       "      <th>SN</th>\n",
       "    </tr>\n",
       "  </thead>\n",
       "  <tbody>\n",
       "    <tr>\n",
       "      <th>0</th>\n",
       "      <td>38</td>\n",
       "      <td>Male</td>\n",
       "      <td>165</td>\n",
       "      <td>Bone Crushing Silver Skewer</td>\n",
       "      <td>3.37</td>\n",
       "      <td>Aelalis34</td>\n",
       "    </tr>\n",
       "    <tr>\n",
       "      <th>1</th>\n",
       "      <td>21</td>\n",
       "      <td>Male</td>\n",
       "      <td>119</td>\n",
       "      <td>Stormbringer, Dark Blade of Ending Misery</td>\n",
       "      <td>2.32</td>\n",
       "      <td>Eolo46</td>\n",
       "    </tr>\n",
       "    <tr>\n",
       "      <th>2</th>\n",
       "      <td>34</td>\n",
       "      <td>Male</td>\n",
       "      <td>174</td>\n",
       "      <td>Primitive Blade</td>\n",
       "      <td>2.46</td>\n",
       "      <td>Assastnya25</td>\n",
       "    </tr>\n",
       "    <tr>\n",
       "      <th>3</th>\n",
       "      <td>21</td>\n",
       "      <td>Male</td>\n",
       "      <td>92</td>\n",
       "      <td>Final Critic</td>\n",
       "      <td>1.36</td>\n",
       "      <td>Pheusrical25</td>\n",
       "    </tr>\n",
       "    <tr>\n",
       "      <th>4</th>\n",
       "      <td>23</td>\n",
       "      <td>Male</td>\n",
       "      <td>63</td>\n",
       "      <td>Stormfury Mace</td>\n",
       "      <td>1.27</td>\n",
       "      <td>Aela59</td>\n",
       "    </tr>\n",
       "  </tbody>\n",
       "</table>\n",
       "</div>"
      ],
      "text/plain": [
       "   Age Gender  Item ID                                  Item Name  Price  \\\n",
       "0   38   Male      165                Bone Crushing Silver Skewer   3.37   \n",
       "1   21   Male      119  Stormbringer, Dark Blade of Ending Misery   2.32   \n",
       "2   34   Male      174                            Primitive Blade   2.46   \n",
       "3   21   Male       92                               Final Critic   1.36   \n",
       "4   23   Male       63                             Stormfury Mace   1.27   \n",
       "\n",
       "             SN  \n",
       "0     Aelalis34  \n",
       "1        Eolo46  \n",
       "2   Assastnya25  \n",
       "3  Pheusrical25  \n",
       "4        Aela59  "
      ]
     },
     "execution_count": 1,
     "metadata": {},
     "output_type": "execute_result"
    }
   ],
   "source": [
    "# Dependencies\n",
    "import pandas as pd\n",
    "import numpy as np\n",
    "\n",
    "# Declare\n",
    "currency = '${:.8}'\n",
    "\n",
    "# Read JSON\n",
    "path_to_jason = 'Desktop/pandas-challenge/HeroesOfPymoli/purchase_data.json'\n",
    "hop_data      = pd.read_json(path_to_jason)\n",
    "hop_data.head()"
   ]
  },
  {
   "cell_type": "markdown",
   "metadata": {},
   "source": [
    "## Player Count"
   ]
  },
  {
   "cell_type": "code",
   "execution_count": 2,
   "metadata": {},
   "outputs": [
    {
     "data": {
      "text/html": [
       "<div>\n",
       "<style>\n",
       "    .dataframe thead tr:only-child th {\n",
       "        text-align: right;\n",
       "    }\n",
       "\n",
       "    .dataframe thead th {\n",
       "        text-align: left;\n",
       "    }\n",
       "\n",
       "    .dataframe tbody tr th {\n",
       "        vertical-align: top;\n",
       "    }\n",
       "</style>\n",
       "<table border=\"1\" class=\"dataframe\">\n",
       "  <thead>\n",
       "    <tr style=\"text-align: right;\">\n",
       "      <th></th>\n",
       "      <th>Total Players</th>\n",
       "    </tr>\n",
       "  </thead>\n",
       "  <tbody>\n",
       "    <tr>\n",
       "      <th>0</th>\n",
       "      <td>573</td>\n",
       "    </tr>\n",
       "  </tbody>\n",
       "</table>\n",
       "</div>"
      ],
      "text/plain": [
       "   Total Players\n",
       "0            573"
      ]
     },
     "execution_count": 2,
     "metadata": {},
     "output_type": "execute_result"
    }
   ],
   "source": [
    "# Total Number of Players\n",
    "player_count = hop_data['SN'].value_counts().count()\n",
    "player_count = pd.DataFrame(data=[{'Total Players': player_count}])\n",
    "player_count"
   ]
  },
  {
   "cell_type": "markdown",
   "metadata": {},
   "source": [
    "## Purchasing Analysis (Total)"
   ]
  },
  {
   "cell_type": "code",
   "execution_count": 3,
   "metadata": {},
   "outputs": [
    {
     "data": {
      "text/html": [
       "<div>\n",
       "<style>\n",
       "    .dataframe thead tr:only-child th {\n",
       "        text-align: right;\n",
       "    }\n",
       "\n",
       "    .dataframe thead th {\n",
       "        text-align: left;\n",
       "    }\n",
       "\n",
       "    .dataframe tbody tr th {\n",
       "        vertical-align: top;\n",
       "    }\n",
       "</style>\n",
       "<table border=\"1\" class=\"dataframe\">\n",
       "  <thead>\n",
       "    <tr style=\"text-align: right;\">\n",
       "      <th></th>\n",
       "      <th>Average Purchase Price</th>\n",
       "      <th>Number of Purchases</th>\n",
       "      <th>Number of Unique Items</th>\n",
       "      <th>Total Revenue</th>\n",
       "    </tr>\n",
       "  </thead>\n",
       "  <tbody>\n",
       "    <tr>\n",
       "      <th>0</th>\n",
       "      <td>2.931192</td>\n",
       "      <td>780</td>\n",
       "      <td>179</td>\n",
       "      <td>2286.33</td>\n",
       "    </tr>\n",
       "  </tbody>\n",
       "</table>\n",
       "</div>"
      ],
      "text/plain": [
       "   Average Purchase Price  Number of Purchases  Number of Unique Items  \\\n",
       "0                2.931192                  780                     179   \n",
       "\n",
       "   Total Revenue  \n",
       "0        2286.33  "
      ]
     },
     "execution_count": 3,
     "metadata": {},
     "output_type": "execute_result"
    }
   ],
   "source": [
    "# Number of Unique Items\n",
    "unique_count = hop_data['Item Name'].value_counts().count()\n",
    "# Number of Purchases\n",
    "purchase_count = hop_data['Price'].count()\n",
    "# Average Purchase Price\n",
    "price_average = hop_data['Price'].mean()\n",
    "# Total Revenue\n",
    "revneue_total = hop_data['Price'].sum()\n",
    "\n",
    "player_data = [{'Number of Unique Items': unique_count,\n",
    "                'Number of Purchases':    purchase_count,\n",
    "                'Average Purchase Price': price_average,\n",
    "                'Total Revenue':          revneue_total}]\n",
    "\n",
    "purchase_analysis = pd.DataFrame(player_data)\n",
    "purchase_analysis"
   ]
  },
  {
   "cell_type": "markdown",
   "metadata": {},
   "source": [
    "## Gender Demographics"
   ]
  },
  {
   "cell_type": "code",
   "execution_count": 4,
   "metadata": {},
   "outputs": [
    {
     "data": {
      "text/html": [
       "<div>\n",
       "<style>\n",
       "    .dataframe thead tr:only-child th {\n",
       "        text-align: right;\n",
       "    }\n",
       "\n",
       "    .dataframe thead th {\n",
       "        text-align: left;\n",
       "    }\n",
       "\n",
       "    .dataframe tbody tr th {\n",
       "        vertical-align: top;\n",
       "    }\n",
       "</style>\n",
       "<table border=\"1\" class=\"dataframe\">\n",
       "  <thead>\n",
       "    <tr style=\"text-align: right;\">\n",
       "      <th></th>\n",
       "      <th>Percentage</th>\n",
       "      <th>Total Count</th>\n",
       "    </tr>\n",
       "    <tr>\n",
       "      <th>Gender</th>\n",
       "      <th></th>\n",
       "      <th></th>\n",
       "    </tr>\n",
       "  </thead>\n",
       "  <tbody>\n",
       "    <tr>\n",
       "      <th>Female</th>\n",
       "      <td>17.44%</td>\n",
       "      <td>136</td>\n",
       "    </tr>\n",
       "    <tr>\n",
       "      <th>Male</th>\n",
       "      <td>81.15%</td>\n",
       "      <td>633</td>\n",
       "    </tr>\n",
       "    <tr>\n",
       "      <th>Other / Non-Disclosed</th>\n",
       "      <td>1.41%</td>\n",
       "      <td>11</td>\n",
       "    </tr>\n",
       "  </tbody>\n",
       "</table>\n",
       "</div>"
      ],
      "text/plain": [
       "                      Percentage  Total Count\n",
       "Gender                                       \n",
       "Female                    17.44%          136\n",
       "Male                      81.15%          633\n",
       "Other / Non-Disclosed      1.41%           11"
      ]
     },
     "execution_count": 4,
     "metadata": {},
     "output_type": "execute_result"
    }
   ],
   "source": [
    "# Count, Total, and List\n",
    "gender_count    = hop_data['Gender'].value_counts()\n",
    "gender_total    = gender_count.sum()\n",
    "gp_category = {gender: gender for gender in set(hop_data['Gender'])}\n",
    "# Count of Players\n",
    "gender_count = {gender: gender_count[gender] for gender in gp_category}\n",
    "# Percentage of Players\n",
    "gender_percentages  = {gender: f\"{round((count / gender_total) * 100, 2)}%\" for gender, count in gender_count.items()}\n",
    "\n",
    "gender_data = {'Gender':      gp_category,\n",
    "               'Total Count': gender_count,\n",
    "               'Percentage':  gender_percentages}\n",
    "\n",
    "gender_demographics = pd.DataFrame(gender_data).set_index('Gender')\n",
    "gender_demographics"
   ]
  },
  {
   "cell_type": "markdown",
   "metadata": {},
   "source": [
    "## Purchasing Analysis (Gender)"
   ]
  },
  {
   "cell_type": "code",
   "execution_count": 5,
   "metadata": {},
   "outputs": [
    {
     "data": {
      "text/html": [
       "<style  type=\"text/css\" >\n",
       "</style>  \n",
       "<table id=\"T_3fe05088_2b29_11e8_a861_f40f242f2d4a\" > \n",
       "<thead>    <tr> \n",
       "        <th class=\"blank level0\" ></th> \n",
       "        <th class=\"col_heading level0 col0\" >Average Purchase Price</th> \n",
       "        <th class=\"col_heading level0 col1\" >Purchase Count</th> \n",
       "        <th class=\"col_heading level0 col2\" >Total Purchase Value</th> \n",
       "    </tr>    <tr> \n",
       "        <th class=\"index_name level0\" >Gender</th> \n",
       "        <th class=\"blank\" ></th> \n",
       "        <th class=\"blank\" ></th> \n",
       "        <th class=\"blank\" ></th> \n",
       "    </tr></thead> \n",
       "<tbody>    <tr> \n",
       "        <th id=\"T_3fe05088_2b29_11e8_a861_f40f242f2d4alevel0_row0\" class=\"row_heading level0 row0\" >Female</th> \n",
       "        <td id=\"T_3fe05088_2b29_11e8_a861_f40f242f2d4arow0_col0\" class=\"data row0 col0\" >$2.8155147</td> \n",
       "        <td id=\"T_3fe05088_2b29_11e8_a861_f40f242f2d4arow0_col1\" class=\"data row0 col1\" >136</td> \n",
       "        <td id=\"T_3fe05088_2b29_11e8_a861_f40f242f2d4arow0_col2\" class=\"data row0 col2\" >$382.91</td> \n",
       "    </tr>    <tr> \n",
       "        <th id=\"T_3fe05088_2b29_11e8_a861_f40f242f2d4alevel0_row1\" class=\"row_heading level0 row1\" >Male</th> \n",
       "        <td id=\"T_3fe05088_2b29_11e8_a861_f40f242f2d4arow1_col0\" class=\"data row1 col0\" >$2.9505213</td> \n",
       "        <td id=\"T_3fe05088_2b29_11e8_a861_f40f242f2d4arow1_col1\" class=\"data row1 col1\" >633</td> \n",
       "        <td id=\"T_3fe05088_2b29_11e8_a861_f40f242f2d4arow1_col2\" class=\"data row1 col2\" >$1867.68</td> \n",
       "    </tr>    <tr> \n",
       "        <th id=\"T_3fe05088_2b29_11e8_a861_f40f242f2d4alevel0_row2\" class=\"row_heading level0 row2\" >Other / Non-Disclosed</th> \n",
       "        <td id=\"T_3fe05088_2b29_11e8_a861_f40f242f2d4arow2_col0\" class=\"data row2 col0\" >$3.2490909</td> \n",
       "        <td id=\"T_3fe05088_2b29_11e8_a861_f40f242f2d4arow2_col1\" class=\"data row2 col1\" >11</td> \n",
       "        <td id=\"T_3fe05088_2b29_11e8_a861_f40f242f2d4arow2_col2\" class=\"data row2 col2\" >$35.74</td> \n",
       "    </tr></tbody> \n",
       "</table> "
      ],
      "text/plain": [
       "<pandas.io.formats.style.Styler at 0x10bc856d8>"
      ]
     },
     "execution_count": 5,
     "metadata": {},
     "output_type": "execute_result"
    }
   ],
   "source": [
    "# The below each broken by gender\n",
    "count   = hop_data.groupby('Gender').count()\n",
    "average = hop_data.groupby('Gender').mean()\n",
    "total   = hop_data.groupby('Gender').sum()\n",
    "\n",
    "gp_data = {'Purchase Count':         count['Price'],\n",
    "           'Average Purchase Price': average['Price'],\n",
    "           'Total Purchase Value':   total['Price']} \n",
    "\n",
    "purchase_analysis = pd.DataFrame(gp_data).style.format({'Average Purchase Price': currency, 'Total Purchase Value': currency})\n",
    "purchase_analysis"
   ]
  },
  {
   "cell_type": "markdown",
   "metadata": {},
   "source": [
    "## Age Demographics"
   ]
  },
  {
   "cell_type": "code",
   "execution_count": 6,
   "metadata": {},
   "outputs": [
    {
     "data": {
      "text/html": [
       "<style  type=\"text/css\" >\n",
       "</style>  \n",
       "<table id=\"T_40abb3ae_2b29_11e8_a7c4_f40f242f2d4a\" > \n",
       "<thead>    <tr> \n",
       "        <th class=\"blank level0\" ></th> \n",
       "        <th class=\"col_heading level0 col0\" >Average Purchase Price</th> \n",
       "        <th class=\"col_heading level0 col1\" >Purchase Count</th> \n",
       "        <th class=\"col_heading level0 col2\" >Total Purchase Value</th> \n",
       "    </tr>    <tr> \n",
       "        <th class=\"index_name level0\" >Age</th> \n",
       "        <th class=\"blank\" ></th> \n",
       "        <th class=\"blank\" ></th> \n",
       "        <th class=\"blank\" ></th> \n",
       "    </tr></thead> \n",
       "<tbody>    <tr> \n",
       "        <th id=\"T_40abb3ae_2b29_11e8_a7c4_f40f242f2d4alevel0_row0\" class=\"row_heading level0 row0\" >(4, 8]</th> \n",
       "        <td id=\"T_40abb3ae_2b29_11e8_a7c4_f40f242f2d4arow0_col0\" class=\"data row0 col0\" >$2.7881818</td> \n",
       "        <td id=\"T_40abb3ae_2b29_11e8_a7c4_f40f242f2d4arow0_col1\" class=\"data row0 col1\" >22</td> \n",
       "        <td id=\"T_40abb3ae_2b29_11e8_a7c4_f40f242f2d4arow0_col2\" class=\"data row0 col2\" >$61.34</td> \n",
       "    </tr>    <tr> \n",
       "        <th id=\"T_40abb3ae_2b29_11e8_a7c4_f40f242f2d4alevel0_row1\" class=\"row_heading level0 row1\" >(8, 12]</th> \n",
       "        <td id=\"T_40abb3ae_2b29_11e8_a7c4_f40f242f2d4arow1_col0\" class=\"data row1 col0\" >$3.3854167</td> \n",
       "        <td id=\"T_40abb3ae_2b29_11e8_a7c4_f40f242f2d4arow1_col1\" class=\"data row1 col1\" >24</td> \n",
       "        <td id=\"T_40abb3ae_2b29_11e8_a7c4_f40f242f2d4arow1_col2\" class=\"data row1 col2\" >$81.25</td> \n",
       "    </tr>    <tr> \n",
       "        <th id=\"T_40abb3ae_2b29_11e8_a7c4_f40f242f2d4alevel0_row2\" class=\"row_heading level0 row2\" >(12, 16]</th> \n",
       "        <td id=\"T_40abb3ae_2b29_11e8_a7c4_f40f242f2d4arow2_col0\" class=\"data row2 col0\" >$2.7458621</td> \n",
       "        <td id=\"T_40abb3ae_2b29_11e8_a7c4_f40f242f2d4arow2_col1\" class=\"data row2 col1\" >87</td> \n",
       "        <td id=\"T_40abb3ae_2b29_11e8_a7c4_f40f242f2d4arow2_col2\" class=\"data row2 col2\" >$238.89</td> \n",
       "    </tr>    <tr> \n",
       "        <th id=\"T_40abb3ae_2b29_11e8_a7c4_f40f242f2d4alevel0_row3\" class=\"row_heading level0 row3\" >(16, 20]</th> \n",
       "        <td id=\"T_40abb3ae_2b29_11e8_a7c4_f40f242f2d4arow3_col0\" class=\"data row3 col0\" >$2.9070186</td> \n",
       "        <td id=\"T_40abb3ae_2b29_11e8_a7c4_f40f242f2d4arow3_col1\" class=\"data row3 col1\" >161</td> \n",
       "        <td id=\"T_40abb3ae_2b29_11e8_a7c4_f40f242f2d4arow3_col2\" class=\"data row3 col2\" >$468.03</td> \n",
       "    </tr>    <tr> \n",
       "        <th id=\"T_40abb3ae_2b29_11e8_a7c4_f40f242f2d4alevel0_row4\" class=\"row_heading level0 row4\" >(20, 24]</th> \n",
       "        <td id=\"T_40abb3ae_2b29_11e8_a7c4_f40f242f2d4arow4_col0\" class=\"data row4 col0\" >$2.9247479</td> \n",
       "        <td id=\"T_40abb3ae_2b29_11e8_a7c4_f40f242f2d4arow4_col1\" class=\"data row4 col1\" >238</td> \n",
       "        <td id=\"T_40abb3ae_2b29_11e8_a7c4_f40f242f2d4arow4_col2\" class=\"data row4 col2\" >$696.09</td> \n",
       "    </tr>    <tr> \n",
       "        <th id=\"T_40abb3ae_2b29_11e8_a7c4_f40f242f2d4alevel0_row5\" class=\"row_heading level0 row5\" >(24, 28]</th> \n",
       "        <td id=\"T_40abb3ae_2b29_11e8_a7c4_f40f242f2d4arow5_col0\" class=\"data row5 col0\" >$2.9747115</td> \n",
       "        <td id=\"T_40abb3ae_2b29_11e8_a7c4_f40f242f2d4arow5_col1\" class=\"data row5 col1\" >104</td> \n",
       "        <td id=\"T_40abb3ae_2b29_11e8_a7c4_f40f242f2d4arow5_col2\" class=\"data row5 col2\" >$309.37</td> \n",
       "    </tr>    <tr> \n",
       "        <th id=\"T_40abb3ae_2b29_11e8_a7c4_f40f242f2d4alevel0_row6\" class=\"row_heading level0 row6\" >(28, 32]</th> \n",
       "        <td id=\"T_40abb3ae_2b29_11e8_a7c4_f40f242f2d4arow6_col0\" class=\"data row6 col0\" >$3.0619697</td> \n",
       "        <td id=\"T_40abb3ae_2b29_11e8_a7c4_f40f242f2d4arow6_col1\" class=\"data row6 col1\" >66</td> \n",
       "        <td id=\"T_40abb3ae_2b29_11e8_a7c4_f40f242f2d4arow6_col2\" class=\"data row6 col2\" >$202.09</td> \n",
       "    </tr>    <tr> \n",
       "        <th id=\"T_40abb3ae_2b29_11e8_a7c4_f40f242f2d4alevel0_row7\" class=\"row_heading level0 row7\" >(32, 36]</th> \n",
       "        <td id=\"T_40abb3ae_2b29_11e8_a7c4_f40f242f2d4arow7_col0\" class=\"data row7 col0\" >$2.9810526</td> \n",
       "        <td id=\"T_40abb3ae_2b29_11e8_a7c4_f40f242f2d4arow7_col1\" class=\"data row7 col1\" >38</td> \n",
       "        <td id=\"T_40abb3ae_2b29_11e8_a7c4_f40f242f2d4arow7_col2\" class=\"data row7 col2\" >$113.28</td> \n",
       "    </tr>    <tr> \n",
       "        <th id=\"T_40abb3ae_2b29_11e8_a7c4_f40f242f2d4alevel0_row8\" class=\"row_heading level0 row8\" >(36, 40]</th> \n",
       "        <td id=\"T_40abb3ae_2b29_11e8_a7c4_f40f242f2d4arow8_col0\" class=\"data row8 col0\" >$2.9013514</td> \n",
       "        <td id=\"T_40abb3ae_2b29_11e8_a7c4_f40f242f2d4arow8_col1\" class=\"data row8 col1\" >37</td> \n",
       "        <td id=\"T_40abb3ae_2b29_11e8_a7c4_f40f242f2d4arow8_col2\" class=\"data row8 col2\" >$107.35</td> \n",
       "    </tr>    <tr> \n",
       "        <th id=\"T_40abb3ae_2b29_11e8_a7c4_f40f242f2d4alevel0_row9\" class=\"row_heading level0 row9\" >(40, 44]</th> \n",
       "        <td id=\"T_40abb3ae_2b29_11e8_a7c4_f40f242f2d4arow9_col0\" class=\"data row9 col0\" >$2.96</td> \n",
       "        <td id=\"T_40abb3ae_2b29_11e8_a7c4_f40f242f2d4arow9_col1\" class=\"data row9 col1\" >2</td> \n",
       "        <td id=\"T_40abb3ae_2b29_11e8_a7c4_f40f242f2d4arow9_col2\" class=\"data row9 col2\" >$5.92</td> \n",
       "    </tr>    <tr> \n",
       "        <th id=\"T_40abb3ae_2b29_11e8_a7c4_f40f242f2d4alevel0_row10\" class=\"row_heading level0 row10\" >(44, 48]</th> \n",
       "        <td id=\"T_40abb3ae_2b29_11e8_a7c4_f40f242f2d4arow10_col0\" class=\"data row10 col0\" >$2.72</td> \n",
       "        <td id=\"T_40abb3ae_2b29_11e8_a7c4_f40f242f2d4arow10_col1\" class=\"data row10 col1\" >1</td> \n",
       "        <td id=\"T_40abb3ae_2b29_11e8_a7c4_f40f242f2d4arow10_col2\" class=\"data row10 col2\" >$2.72</td> \n",
       "    </tr></tbody> \n",
       "</table> "
      ],
      "text/plain": [
       "<pandas.io.formats.style.Styler at 0x10c70f0b8>"
      ]
     },
     "execution_count": 6,
     "metadata": {},
     "output_type": "execute_result"
    }
   ],
   "source": [
    "# The below each broken into bins of 4 years (i.e. <10, 10-14, 15-19, etc.)\n",
    "count   = hop_data.groupby(pd.cut(hop_data['Age'], np.arange(4, 50, 4))).count()\n",
    "average = hop_data.groupby(pd.cut(hop_data['Age'], np.arange(4, 50, 4))).mean()\n",
    "total   = hop_data.groupby(pd.cut(hop_data['Age'], np.arange(4, 50, 4))).sum()\n",
    "\n",
    "age_data = {'Purchase Count':         count['Price'],\n",
    "            'Average Purchase Price': average['Price'],\n",
    "            'Total Purchase Value':   total['Price']} \n",
    "\n",
    "purchase_analysis = pd.DataFrame(age_data).style.format({'Average Purchase Price': currency, 'Total Purchase Value': currency})\n",
    "purchase_analysis "
   ]
  },
  {
   "cell_type": "markdown",
   "metadata": {},
   "source": [
    "## Top Spenders"
   ]
  },
  {
   "cell_type": "code",
   "execution_count": 7,
   "metadata": {},
   "outputs": [
    {
     "data": {
      "text/html": [
       "<style  type=\"text/css\" >\n",
       "</style>  \n",
       "<table id=\"T_419a1d46_2b29_11e8_8c6b_f40f242f2d4a\" > \n",
       "<thead>    <tr> \n",
       "        <th class=\"blank level0\" ></th> \n",
       "        <th class=\"col_heading level0 col0\" >Average Purchase Price</th> \n",
       "        <th class=\"col_heading level0 col1\" >Purchase Count</th> \n",
       "        <th class=\"col_heading level0 col2\" >Total Purchase Value</th> \n",
       "    </tr>    <tr> \n",
       "        <th class=\"index_name level0\" >SN</th> \n",
       "        <th class=\"blank\" ></th> \n",
       "        <th class=\"blank\" ></th> \n",
       "        <th class=\"blank\" ></th> \n",
       "    </tr></thead> \n",
       "<tbody>    <tr> \n",
       "        <th id=\"T_419a1d46_2b29_11e8_8c6b_f40f242f2d4alevel0_row0\" class=\"row_heading level0 row0\" >Undirrala66</th> \n",
       "        <td id=\"T_419a1d46_2b29_11e8_8c6b_f40f242f2d4arow0_col0\" class=\"data row0 col0\" >$3.412</td> \n",
       "        <td id=\"T_419a1d46_2b29_11e8_8c6b_f40f242f2d4arow0_col1\" class=\"data row0 col1\" >5</td> \n",
       "        <td id=\"T_419a1d46_2b29_11e8_8c6b_f40f242f2d4arow0_col2\" class=\"data row0 col2\" >$17.06</td> \n",
       "    </tr>    <tr> \n",
       "        <th id=\"T_419a1d46_2b29_11e8_8c6b_f40f242f2d4alevel0_row1\" class=\"row_heading level0 row1\" >Saedue76</th> \n",
       "        <td id=\"T_419a1d46_2b29_11e8_8c6b_f40f242f2d4arow1_col0\" class=\"data row1 col0\" >$3.39</td> \n",
       "        <td id=\"T_419a1d46_2b29_11e8_8c6b_f40f242f2d4arow1_col1\" class=\"data row1 col1\" >4</td> \n",
       "        <td id=\"T_419a1d46_2b29_11e8_8c6b_f40f242f2d4arow1_col2\" class=\"data row1 col2\" >$13.56</td> \n",
       "    </tr>    <tr> \n",
       "        <th id=\"T_419a1d46_2b29_11e8_8c6b_f40f242f2d4alevel0_row2\" class=\"row_heading level0 row2\" >Mindimnya67</th> \n",
       "        <td id=\"T_419a1d46_2b29_11e8_8c6b_f40f242f2d4arow2_col0\" class=\"data row2 col0\" >$3.185</td> \n",
       "        <td id=\"T_419a1d46_2b29_11e8_8c6b_f40f242f2d4arow2_col1\" class=\"data row2 col1\" >4</td> \n",
       "        <td id=\"T_419a1d46_2b29_11e8_8c6b_f40f242f2d4arow2_col2\" class=\"data row2 col2\" >$12.74</td> \n",
       "    </tr>    <tr> \n",
       "        <th id=\"T_419a1d46_2b29_11e8_8c6b_f40f242f2d4alevel0_row3\" class=\"row_heading level0 row3\" >Haellysu29</th> \n",
       "        <td id=\"T_419a1d46_2b29_11e8_8c6b_f40f242f2d4arow3_col0\" class=\"data row3 col0\" >$4.2433333</td> \n",
       "        <td id=\"T_419a1d46_2b29_11e8_8c6b_f40f242f2d4arow3_col1\" class=\"data row3 col1\" >3</td> \n",
       "        <td id=\"T_419a1d46_2b29_11e8_8c6b_f40f242f2d4arow3_col2\" class=\"data row3 col2\" >$12.73</td> \n",
       "    </tr>    <tr> \n",
       "        <th id=\"T_419a1d46_2b29_11e8_8c6b_f40f242f2d4alevel0_row4\" class=\"row_heading level0 row4\" >Eoda93</th> \n",
       "        <td id=\"T_419a1d46_2b29_11e8_8c6b_f40f242f2d4arow4_col0\" class=\"data row4 col0\" >$3.86</td> \n",
       "        <td id=\"T_419a1d46_2b29_11e8_8c6b_f40f242f2d4arow4_col1\" class=\"data row4 col1\" >3</td> \n",
       "        <td id=\"T_419a1d46_2b29_11e8_8c6b_f40f242f2d4arow4_col2\" class=\"data row4 col2\" >$11.58</td> \n",
       "    </tr></tbody> \n",
       "</table> "
      ],
      "text/plain": [
       "<pandas.io.formats.style.Styler at 0x10c6e2c18>"
      ]
     },
     "execution_count": 7,
     "metadata": {},
     "output_type": "execute_result"
    }
   ],
   "source": [
    "# Identify the the top 5 spenders in the game by total purchase value, then list (in a table):\n",
    "count   = hop_data.groupby('SN').count()\n",
    "average = hop_data.groupby('SN').mean()\n",
    "total   = hop_data.groupby('SN').sum()\n",
    "\n",
    "sn_data = {'Purchase Count':         count['Price'],\n",
    "           'Average Purchase Price': average['Price'],\n",
    "           'Total Purchase Value':   total['Price']}\n",
    "\n",
    "purchase_analysis = pd.DataFrame(sn_data).sort_values('Total Purchase Value', ascending=False).head(5).style.format({'Average Purchase Price': currency, 'Total Purchase Value': currency})\n",
    "purchase_analysis"
   ]
  },
  {
   "cell_type": "markdown",
   "metadata": {},
   "source": [
    "## Most Popular Items"
   ]
  },
  {
   "cell_type": "code",
   "execution_count": 8,
   "metadata": {},
   "outputs": [
    {
     "data": {
      "text/html": [
       "<style  type=\"text/css\" >\n",
       "</style>  \n",
       "<table id=\"T_43071e68_2b29_11e8_9c30_f40f242f2d4a\" > \n",
       "<thead>    <tr> \n",
       "        <th class=\"blank\" ></th> \n",
       "        <th class=\"blank level0\" ></th> \n",
       "        <th class=\"col_heading level0 col0\" >Average Purchase Price</th> \n",
       "        <th class=\"col_heading level0 col1\" >Purchase Count</th> \n",
       "        <th class=\"col_heading level0 col2\" >Total Purchase Value</th> \n",
       "    </tr>    <tr> \n",
       "        <th class=\"index_name level0\" >Item ID</th> \n",
       "        <th class=\"index_name level1\" >Item Name</th> \n",
       "        <th class=\"blank\" ></th> \n",
       "        <th class=\"blank\" ></th> \n",
       "        <th class=\"blank\" ></th> \n",
       "    </tr></thead> \n",
       "<tbody>    <tr> \n",
       "        <th id=\"T_43071e68_2b29_11e8_9c30_f40f242f2d4alevel0_row0\" class=\"row_heading level0 row0\" >39</th> \n",
       "        <th id=\"T_43071e68_2b29_11e8_9c30_f40f242f2d4alevel1_row0\" class=\"row_heading level1 row0\" >Betrayal, Whisper of Grieving Widows</th> \n",
       "        <td id=\"T_43071e68_2b29_11e8_9c30_f40f242f2d4arow0_col0\" class=\"data row0 col0\" >$2.35</td> \n",
       "        <td id=\"T_43071e68_2b29_11e8_9c30_f40f242f2d4arow0_col1\" class=\"data row0 col1\" >11</td> \n",
       "        <td id=\"T_43071e68_2b29_11e8_9c30_f40f242f2d4arow0_col2\" class=\"data row0 col2\" >$25.85</td> \n",
       "    </tr>    <tr> \n",
       "        <th id=\"T_43071e68_2b29_11e8_9c30_f40f242f2d4alevel0_row1\" class=\"row_heading level0 row1\" >84</th> \n",
       "        <th id=\"T_43071e68_2b29_11e8_9c30_f40f242f2d4alevel1_row1\" class=\"row_heading level1 row1\" >Arcane Gem</th> \n",
       "        <td id=\"T_43071e68_2b29_11e8_9c30_f40f242f2d4arow1_col0\" class=\"data row1 col0\" >$2.23</td> \n",
       "        <td id=\"T_43071e68_2b29_11e8_9c30_f40f242f2d4arow1_col1\" class=\"data row1 col1\" >11</td> \n",
       "        <td id=\"T_43071e68_2b29_11e8_9c30_f40f242f2d4arow1_col2\" class=\"data row1 col2\" >$24.53</td> \n",
       "    </tr>    <tr> \n",
       "        <th id=\"T_43071e68_2b29_11e8_9c30_f40f242f2d4alevel0_row2\" class=\"row_heading level0 row2\" >31</th> \n",
       "        <th id=\"T_43071e68_2b29_11e8_9c30_f40f242f2d4alevel1_row2\" class=\"row_heading level1 row2\" >Trickster</th> \n",
       "        <td id=\"T_43071e68_2b29_11e8_9c30_f40f242f2d4arow2_col0\" class=\"data row2 col0\" >$2.07</td> \n",
       "        <td id=\"T_43071e68_2b29_11e8_9c30_f40f242f2d4arow2_col1\" class=\"data row2 col1\" >9</td> \n",
       "        <td id=\"T_43071e68_2b29_11e8_9c30_f40f242f2d4arow2_col2\" class=\"data row2 col2\" >$18.63</td> \n",
       "    </tr>    <tr> \n",
       "        <th id=\"T_43071e68_2b29_11e8_9c30_f40f242f2d4alevel0_row3\" class=\"row_heading level0 row3\" >175</th> \n",
       "        <th id=\"T_43071e68_2b29_11e8_9c30_f40f242f2d4alevel1_row3\" class=\"row_heading level1 row3\" >Woeful Adamantite Claymore</th> \n",
       "        <td id=\"T_43071e68_2b29_11e8_9c30_f40f242f2d4arow3_col0\" class=\"data row3 col0\" >$1.24</td> \n",
       "        <td id=\"T_43071e68_2b29_11e8_9c30_f40f242f2d4arow3_col1\" class=\"data row3 col1\" >9</td> \n",
       "        <td id=\"T_43071e68_2b29_11e8_9c30_f40f242f2d4arow3_col2\" class=\"data row3 col2\" >$11.16</td> \n",
       "    </tr>    <tr> \n",
       "        <th id=\"T_43071e68_2b29_11e8_9c30_f40f242f2d4alevel0_row4\" class=\"row_heading level0 row4\" >13</th> \n",
       "        <th id=\"T_43071e68_2b29_11e8_9c30_f40f242f2d4alevel1_row4\" class=\"row_heading level1 row4\" >Serenity</th> \n",
       "        <td id=\"T_43071e68_2b29_11e8_9c30_f40f242f2d4arow4_col0\" class=\"data row4 col0\" >$1.49</td> \n",
       "        <td id=\"T_43071e68_2b29_11e8_9c30_f40f242f2d4arow4_col1\" class=\"data row4 col1\" >9</td> \n",
       "        <td id=\"T_43071e68_2b29_11e8_9c30_f40f242f2d4arow4_col2\" class=\"data row4 col2\" >$13.41</td> \n",
       "    </tr></tbody> \n",
       "</table> "
      ],
      "text/plain": [
       "<pandas.io.formats.style.Styler at 0x10c70fb38>"
      ]
     },
     "execution_count": 8,
     "metadata": {},
     "output_type": "execute_result"
    }
   ],
   "source": [
    "# Identify the 5 most popular items by purchase count, then list (in a table):\n",
    "count    = hop_data.groupby(['Item ID', 'Item Name']).count()\n",
    "average  = hop_data.groupby(['Item ID', 'Item Name']).mean()\n",
    "total    = hop_data.groupby(['Item ID', 'Item Name']).sum()\n",
    "\n",
    "item_data = {'Purchase Count':         count['Price'],\n",
    "             'Average Purchase Price': average['Price'],\n",
    "             'Total Purchase Value':   total['Price']} # format into currency\n",
    "\n",
    "purchase_analysis = pd.DataFrame(item_data).sort_values('Purchase Count', ascending=False).head(5).style.format({'Average Purchase Price': currency, 'Total Purchase Value': currency})\n",
    "purchase_analysis"
   ]
  },
  {
   "cell_type": "markdown",
   "metadata": {},
   "source": [
    "## Most Profitable Items"
   ]
  },
  {
   "cell_type": "code",
   "execution_count": 9,
   "metadata": {},
   "outputs": [
    {
     "data": {
      "text/html": [
       "<style  type=\"text/css\" >\n",
       "</style>  \n",
       "<table id=\"T_442dfa64_2b29_11e8_be06_f40f242f2d4a\" > \n",
       "<thead>    <tr> \n",
       "        <th class=\"blank\" ></th> \n",
       "        <th class=\"blank level0\" ></th> \n",
       "        <th class=\"col_heading level0 col0\" >Average Purchase Price</th> \n",
       "        <th class=\"col_heading level0 col1\" >Purchase Count</th> \n",
       "        <th class=\"col_heading level0 col2\" >Total Purchase Value</th> \n",
       "    </tr>    <tr> \n",
       "        <th class=\"index_name level0\" >Item ID</th> \n",
       "        <th class=\"index_name level1\" >Item Name</th> \n",
       "        <th class=\"blank\" ></th> \n",
       "        <th class=\"blank\" ></th> \n",
       "        <th class=\"blank\" ></th> \n",
       "    </tr></thead> \n",
       "<tbody>    <tr> \n",
       "        <th id=\"T_442dfa64_2b29_11e8_be06_f40f242f2d4alevel0_row0\" class=\"row_heading level0 row0\" >34</th> \n",
       "        <th id=\"T_442dfa64_2b29_11e8_be06_f40f242f2d4alevel1_row0\" class=\"row_heading level1 row0\" >Retribution Axe</th> \n",
       "        <td id=\"T_442dfa64_2b29_11e8_be06_f40f242f2d4arow0_col0\" class=\"data row0 col0\" >$4.14</td> \n",
       "        <td id=\"T_442dfa64_2b29_11e8_be06_f40f242f2d4arow0_col1\" class=\"data row0 col1\" >9</td> \n",
       "        <td id=\"T_442dfa64_2b29_11e8_be06_f40f242f2d4arow0_col2\" class=\"data row0 col2\" >$37.26</td> \n",
       "    </tr>    <tr> \n",
       "        <th id=\"T_442dfa64_2b29_11e8_be06_f40f242f2d4alevel0_row1\" class=\"row_heading level0 row1\" >115</th> \n",
       "        <th id=\"T_442dfa64_2b29_11e8_be06_f40f242f2d4alevel1_row1\" class=\"row_heading level1 row1\" >Spectral Diamond Doomblade</th> \n",
       "        <td id=\"T_442dfa64_2b29_11e8_be06_f40f242f2d4arow1_col0\" class=\"data row1 col0\" >$4.25</td> \n",
       "        <td id=\"T_442dfa64_2b29_11e8_be06_f40f242f2d4arow1_col1\" class=\"data row1 col1\" >7</td> \n",
       "        <td id=\"T_442dfa64_2b29_11e8_be06_f40f242f2d4arow1_col2\" class=\"data row1 col2\" >$29.75</td> \n",
       "    </tr>    <tr> \n",
       "        <th id=\"T_442dfa64_2b29_11e8_be06_f40f242f2d4alevel0_row2\" class=\"row_heading level0 row2\" >32</th> \n",
       "        <th id=\"T_442dfa64_2b29_11e8_be06_f40f242f2d4alevel1_row2\" class=\"row_heading level1 row2\" >Orenmir</th> \n",
       "        <td id=\"T_442dfa64_2b29_11e8_be06_f40f242f2d4arow2_col0\" class=\"data row2 col0\" >$4.95</td> \n",
       "        <td id=\"T_442dfa64_2b29_11e8_be06_f40f242f2d4arow2_col1\" class=\"data row2 col1\" >6</td> \n",
       "        <td id=\"T_442dfa64_2b29_11e8_be06_f40f242f2d4arow2_col2\" class=\"data row2 col2\" >$29.7</td> \n",
       "    </tr>    <tr> \n",
       "        <th id=\"T_442dfa64_2b29_11e8_be06_f40f242f2d4alevel0_row3\" class=\"row_heading level0 row3\" >103</th> \n",
       "        <th id=\"T_442dfa64_2b29_11e8_be06_f40f242f2d4alevel1_row3\" class=\"row_heading level1 row3\" >Singed Scalpel</th> \n",
       "        <td id=\"T_442dfa64_2b29_11e8_be06_f40f242f2d4arow3_col0\" class=\"data row3 col0\" >$4.87</td> \n",
       "        <td id=\"T_442dfa64_2b29_11e8_be06_f40f242f2d4arow3_col1\" class=\"data row3 col1\" >6</td> \n",
       "        <td id=\"T_442dfa64_2b29_11e8_be06_f40f242f2d4arow3_col2\" class=\"data row3 col2\" >$29.22</td> \n",
       "    </tr>    <tr> \n",
       "        <th id=\"T_442dfa64_2b29_11e8_be06_f40f242f2d4alevel0_row4\" class=\"row_heading level0 row4\" >107</th> \n",
       "        <th id=\"T_442dfa64_2b29_11e8_be06_f40f242f2d4alevel1_row4\" class=\"row_heading level1 row4\" >Splitter, Foe Of Subtlety</th> \n",
       "        <td id=\"T_442dfa64_2b29_11e8_be06_f40f242f2d4arow4_col0\" class=\"data row4 col0\" >$3.61</td> \n",
       "        <td id=\"T_442dfa64_2b29_11e8_be06_f40f242f2d4arow4_col1\" class=\"data row4 col1\" >8</td> \n",
       "        <td id=\"T_442dfa64_2b29_11e8_be06_f40f242f2d4arow4_col2\" class=\"data row4 col2\" >$28.88</td> \n",
       "    </tr></tbody> \n",
       "</table> "
      ],
      "text/plain": [
       "<pandas.io.formats.style.Styler at 0x108da7898>"
      ]
     },
     "execution_count": 9,
     "metadata": {},
     "output_type": "execute_result"
    }
   ],
   "source": [
    "# Identify the 5 most profitable items by total purchase value, then list (in a table):\n",
    "purchase_analysis = pd.DataFrame(item_data).sort_values('Total Purchase Value', ascending=False).head(5).style.format({'Average Purchase Price': currency, 'Total Purchase Value': currency})\n",
    "purchase_analysis"
   ]
  },
  {
   "cell_type": "code",
   "execution_count": null,
   "metadata": {},
   "outputs": [],
   "source": []
  }
 ],
 "metadata": {
  "kernelspec": {
   "display_name": "Python 3",
   "language": "python",
   "name": "python3"
  },
  "language_info": {
   "codemirror_mode": {
    "name": "ipython",
    "version": 3
   },
   "file_extension": ".py",
   "mimetype": "text/x-python",
   "name": "python",
   "nbconvert_exporter": "python",
   "pygments_lexer": "ipython3",
   "version": "3.6.3"
  }
 },
 "nbformat": 4,
 "nbformat_minor": 2
}
